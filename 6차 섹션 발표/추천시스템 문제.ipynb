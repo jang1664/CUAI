{
 "cells": [
  {
   "cell_type": "markdown",
   "metadata": {},
   "source": [
    "1. 6X4 행렬 A와 4X4행렬 B가 행렬곱으로 곱해져서\n",
    "   6X4행렬 R이 나왔다. 나는 R(3,2)위치에 있는 값을 알고싶다.\n",
    "   그렇다면 A의 어떤 행과 B의 어떤 열을 곱해줘야 하는가? (A: , B: )\n",
    "   \n",
    "2. 행렬분해는 ()이나()방식을 이용한 ()로 수행된다.\n",
    "3. 행렬분해는 고차원밀집행렬을 저차원희소행렬로 바꾸는데 의의가 있다.(T/F)"
   ]
  },
  {
   "cell_type": "markdown",
   "metadata": {},
   "source": [
    "답)\n",
    "1.(A:3행,B:2열)\n",
    "2.SGD/ALS/SVD\n",
    "3.F(고차원 희소행렬 -> 저차원밀집행렬 이다.)"
   ]
  },
  {
   "cell_type": "code",
   "execution_count": null,
   "metadata": {},
   "outputs": [],
   "source": []
  }
 ],
 "metadata": {
  "kernelspec": {
   "display_name": "Python 3",
   "language": "python",
   "name": "python3"
  },
  "language_info": {
   "codemirror_mode": {
    "name": "ipython",
    "version": 3
   },
   "file_extension": ".py",
   "mimetype": "text/x-python",
   "name": "python",
   "nbconvert_exporter": "python",
   "pygments_lexer": "ipython3",
   "version": "3.7.3"
  }
 },
 "nbformat": 4,
 "nbformat_minor": 2
}
