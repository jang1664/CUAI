{
 "cells": [
  {
   "cell_type": "markdown",
   "metadata": {},
   "source": [
    "# 1.주관식 및 T/F 문제"
   ]
  },
  {
   "cell_type": "markdown",
   "metadata": {},
   "source": [
    "1.추천시스템의 두 유형을 쓰시오.<br>\n",
    ":()<br>\n",
    " 2.사용자가 아이템에 매긴 평점 정보나 상품 구매 이력과 같은 사용자 행동 방식만을 기반으로 추천을 수행하는 필터링 방식을 쓰시오.<br>\n",
    ":()<br>"
   ]
  },
  {
   "cell_type": "markdown",
   "metadata": {},
   "source": [
    "3.대부분의 온라인 스토어에서 최근접 이웃 기반 협업 필터링 기반의 추천시스템을 적용하고 있다.(T/F)<br>\n",
    "4.아이템 기반 최근접 이웃 방식은 아이템간의 속성이 얼마나 비슷한지를 기반으로 추천한다.(T/F)<br>\n",
    "5.잠재요인 협업 필터링은 행렬분해 기법을 이용한다.(T/F)<br>\n",
    "6.행렬분해 방식 중 SVD는 널(NaN)값이 있는 행렬에도 적용가능하다.(T/F)<br>\n",
    "7.확률적 경사 하강법은 P행렬과 Q행렬에 업데이트 값을 반복적으로 수행하여 최적화된 예측 R행렬을 구하는 방식이다(T/F)\n",
    "8. 6X4 행렬 A와 4X4행렬 B가 행렬곱으로 곱해져서\n",
    "   6X4행렬 R이 나왔다. 나는 R(3,2)위치에 있는 값을 알고싶다.\n",
    "   그렇다면 A의 어떤 행과 B의 어떤 열을 곱해줘야 하는가? (A: , B: )\n",
    "   \n",
    "9. 행렬분해는 ()이나()방식을 이용한 ()로 수행된다.\n",
    "10. 행렬분해는 고차원밀집행렬을 저차원희소행렬로 바꾸는데 의의가 있다.(T/F)"
   ]
  },
  {
   "cell_type": "markdown",
   "metadata": {},
   "source": [
    "# 2.다음은 원본 행렬 R을 확률적 경사하강법을 이용해서 분해하는 예제이다."
   ]
  },
  {
   "cell_type": "markdown",
   "metadata": {},
   "source": [
    "## 빈칸을 채워 행렬 분해를 하고 get_rmse 함수를 사용해서 rmse 값을 확인해보세요"
   ]
  },
  {
   "cell_type": "code",
   "execution_count": 4,
   "metadata": {},
   "outputs": [],
   "source": [
    "from sklearn.metrics import mean_squared_error\n",
    "\n",
    "def get_rmse(R, P, Q, non_zeros):\n",
    "    error = 0\n",
    "    # 두개의 분해된 행렬 P와 Q.T의 내적으로 예측 R 행렬 생성\n",
    "    full_pred_matrix = np.dot(P, Q.T)\n",
    "    \n",
    "    # 실제 R 행렬에서 널이 아닌 값의 위치 인덱스 추출하여 실제 R 행렬과 예측 행렬의 RMSE 추출\n",
    "    x_non_zero_ind = [non_zero[0] for non_zero in non_zeros]\n",
    "    y_non_zero_ind = [non_zero[1] for non_zero in non_zeros]\n",
    "    R_non_zeros = R[x_non_zero_ind, y_non_zero_ind]\n",
    "    full_pred_matrix_non_zeros = full_pred_matrix[x_non_zero_ind, y_non_zero_ind]\n",
    "      \n",
    "    mse = mean_squared_error(R_non_zeros, full_pred_matrix_non_zeros)\n",
    "    rmse = np.sqrt(mse)\n",
    "    \n",
    "    return rmse"
   ]
  },
  {
   "cell_type": "code",
   "execution_count": 3,
   "metadata": {},
   "outputs": [],
   "source": [
    "import numpy as np\n",
    " \n",
    "R = np.array([[4, np.NaN, np.NaN, 2, np.NaN ],\n",
    "              [np.NaN, 5, np.NaN, 3, 1 ],\n",
    "              [np.NaN, np.NaN, 3, 4, 4 ],\n",
    "              [5, 2, 1, 2, np.NaN ]])\n",
    "num_users, num_items = R.shape\n",
    "K=3\n",
    "\n",
    "np.random.seed(1)\n",
    "P = np.random.normal(scale=1./K, size=(num_users, K))\n",
    "Q = np.random.normal(scale=1./K, size=(num_items, K))"
   ]
  },
  {
   "cell_type": "code",
   "execution_count": null,
   "metadata": {},
   "outputs": [],
   "source": [
    "non_zeros = ##빈칸\n",
    "\n",
    "steps=1000\n",
    "learning_rate=0.01\n",
    "r_lambda=0.01\n",
    "\n",
    "\n",
    "for step in range(steps):\n",
    "    for i, j, r in non_zeros:\n",
    "       \n",
    "        eij = ##빈칸\n",
    "        \n",
    "        P[i,:] = ##빈칸\n",
    "        Q[j,:] = ##빈칸\n",
    "\n",
    "    rmse = get_rmse(R, P, Q, non_zeros)\n",
    "    if (step % 50) == 0 :\n",
    "        print(\"### iteration step : \", step,\" rmse : \", rmse)"
   ]
  }
 ],
 "metadata": {
  "kernelspec": {
   "display_name": "Python 3",
   "language": "python",
   "name": "python3"
  },
  "language_info": {
   "codemirror_mode": {
    "name": "ipython",
    "version": 3
   },
   "file_extension": ".py",
   "mimetype": "text/x-python",
   "name": "python",
   "nbconvert_exporter": "python",
   "pygments_lexer": "ipython3",
   "version": "3.6.8"
  }
 },
 "nbformat": 4,
 "nbformat_minor": 2
}
